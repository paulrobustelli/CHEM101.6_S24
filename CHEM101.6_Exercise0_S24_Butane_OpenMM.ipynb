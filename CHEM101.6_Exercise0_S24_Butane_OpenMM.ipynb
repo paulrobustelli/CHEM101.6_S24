{
 "cells": [
  {
   "cell_type": "markdown",
   "metadata": {
    "colab_type": "text",
    "id": "view-in-github"
   },
   "source": [
    "href="https://colab.research.google.com/github/paulrobustelli/CHEM101.6_S24/blob/main/CHEM101.6_Exercise0_S24_Butane_OpenMM.ipynb">
   ]
  },
  {
   "cell_type": "markdown",
   "metadata": {
    "id": "pj2BWZxUDbEE"
   },
   "source": [
    "# **Hello there!**\n",
    "\n",
    "This is a Jupyter notebook for running Molecular Dynamics (MD) simulations of Alkanes using the OpenMM engine "
   ]
  },
  {
   "cell_type": "markdown",
   "metadata": {
    "id": "Lh96y6mGFY1D"
   },
   "source": [
    "---\n",
    "---\n",
    "# **Setting the environment for MD calculation**\n",
    "\n",
    "Firstly, we need to install all necessary libraries and packages for our simulation. The main packages we will be installing are:\n",
    "\n",
    "1.    Anaconda (https://docs.conda.io/en/latest/miniconda.html)\n",
    "2.    OpenMM (https://openmm.org/)\n",
    "3.    Mdtraj (https://www.mdtraj.org/1.9.8.dev0/index.html)\n",
    "5.    Numpy (https://numpy.org/)\n",
    "6.    Matplotlib (https://matplotlib.org/)\n"
   ]
  },
  {
   "cell_type": "code",
   "execution_count": 16,
   "metadata": {
    "colab": {
     "base_uri": "https://localhost:8080/"
    },
    "id": "wH1oMiVUlxO_",
    "outputId": "7942265a-6c80-4505-bc7c-80681294ead5"
   },
   "outputs": [],
   "source": [
    "import sys\n",
    "import openmm as mm\n",
    "from openmm import app\n",
    "from openmm import unit\n",
    "from openmm import *\n",
    "from openmm.app import *\n",
    "from openmm.unit import *\n",
    "import numpy as np\n",
    "import os\n",
    "import matplotlib.pyplot as plt"
   ]
  },
  {
   "cell_type": "markdown",
   "metadata": {
    "id": "fDQnAKJLFxtt"
   },
   "source": [
    "\n",
    "We're going to set-up a directory on our desktop to sore the input files needed for this simulation. \n",
    "\n",
    "These files are a pdb and a force field file for butane and ethane \n",
    "\n",
    "I'm going to make my course directory:\n",
    "\"/Users/paulrobustelli/desktop/Chem101_S24\"\n",
    "\n",
    "I made a subdirectory called: \"Exercise0\"\n",
    "\n",
    "and another subdirectory \"data\":   \n",
    "\"/Users/paulrobustelli/desktop/Chem101_S24/Chem101_S24Exercise0/data\"\n",
    "\n",
    "and another for our output - commonly called an out directory or \"outdir\"\n",
    "\"/Users/paulrobustelli/desktop/Chem101_S24/Chem101_S24Exercise0/outdir\"\n"
   ]
  },
  {
   "cell_type": "code",
   "execution_count": 17,
   "metadata": {},
   "outputs": [],
   "source": [
    "workdir='/Users/paulrobustelli/Desktop/Chem101_S24/Exercise0/'\n",
    "datadir='/Users/paulrobustelli/Desktop/Chem101_S24/Exercise0/data/'\n",
    "outdir='/Users/paulrobustelli/Desktop/Chem101_S24/Exercise0/outdir/'"
   ]
  },
  {
   "cell_type": "code",
   "execution_count": 18,
   "metadata": {},
   "outputs": [],
   "source": [
    "PDB_file_name = datadir+'butane.pdb'\n",
    "forcefield_file_name = datadir+'butane.gaff2.xml' "
   ]
  },
  {
   "cell_type": "code",
   "execution_count": 19,
   "metadata": {},
   "outputs": [
    {
     "name": "stdout",
     "output_type": "stream",
     "text": [
      "/Users/paulrobustelli/Desktop/Chem101_S24/Exercise0/data/butane.pdb\n",
      "/Users/paulrobustelli/Desktop/Chem101_S24/Exercise0/data/butane.gaff2.xml\n"
     ]
    }
   ],
   "source": [
    "print(PDB_file_name)\n",
    "print(forcefield_file_name)"
   ]
  },
  {
   "cell_type": "code",
   "execution_count": 20,
   "metadata": {},
   "outputs": [],
   "source": [
    "pdb = mm.app.PDBFile(PDB_file_name)\n",
    "forcefield = mm.app.ForceField(forcefield_file_name)"
   ]
  },
  {
   "cell_type": "code",
   "execution_count": 21,
   "metadata": {},
   "outputs": [
    {
     "data": {
      "text/plain": [
       "<openmm.app.pdbfile.PDBFile at 0x1078303d0>"
      ]
     },
     "execution_count": 21,
     "metadata": {},
     "output_type": "execute_result"
    }
   ],
   "source": [
    "pdb"
   ]
  },
  {
   "cell_type": "code",
   "execution_count": 22,
   "metadata": {},
   "outputs": [
    {
     "data": {
      "text/plain": [
       "<openmm.app.forcefield.ForceField at 0x1044a7f90>"
      ]
     },
     "execution_count": 22,
     "metadata": {},
     "output_type": "execute_result"
    }
   ],
   "source": [
    "forcefield"
   ]
  },
  {
   "cell_type": "code",
   "execution_count": 24,
   "metadata": {},
   "outputs": [],
   "source": [
    "system = forcefield.createSystem(pdb.topology, nonbondedMethod=mm.app.NoCutoff, constraints=mm.app.HBonds)\n",
    "integrator = mm.LangevinIntegrator(298.15*kelvin, 5.0/picosecond, 2.0*femtoseconds)\n",
    "integrator.setConstraintTolerance(1e-5)\n",
    "platform = mm.Platform.getPlatformByName('Reference')\n",
    "simulation = app.Simulation(pdb.topology, system, integrator, platform)\n",
    "simulation.context.setPositions(pdb.positions)"
   ]
  },
  {
   "cell_type": "code",
   "execution_count": 25,
   "metadata": {},
   "outputs": [
    {
     "name": "stdout",
     "output_type": "stream",
     "text": [
      "Minimizing...\n",
      "Potential energy before minimization is 5.797528692127867 kJ/mol\n",
      "Potential energy after minimization is 5.295271861905613 kJ/mol\n"
     ]
    }
   ],
   "source": [
    "print('Minimizing...')\n",
    "\n",
    "st = simulation.context.getState(getPositions=True,getEnergy=True)\n",
    "print(F\"Potential energy before minimization is {st.getPotentialEnergy()}\")\n",
    "\n",
    "simulation.minimizeEnergy(maxIterations=100)\n",
    "\n",
    "st = simulation.context.getState(getPositions=True,getEnergy=True)\n",
    "print(F\"Potential energy after minimization is {st.getPotentialEnergy()}\")"
   ]
  },
  {
   "cell_type": "code",
   "execution_count": 26,
   "metadata": {
    "colab": {
     "base_uri": "https://localhost:8080/"
    },
    "id": "OA1RPmp18Ocw",
    "outputId": "46e7cf7f-d554-4ac3-f305-75dcc3899226"
   },
   "outputs": [
    {
     "name": "stdout",
     "output_type": "stream",
     "text": [
      "Minimizing...\n",
      "Potential energy before minimization is 5.295271861905613 kJ/mol\n",
      "Potential energy after minimization is 5.295054161663416 kJ/mol\n"
     ]
    }
   ],
   "source": [
    "integrator = mm.LangevinIntegrator(298.15*kelvin, 5.0/picoseconds, 2.0*femtoseconds)\n",
    "integrator.setConstraintTolerance(1e-5)\n",
    "\n",
    "print('Minimizing...')\n",
    "\n",
    "st = simulation.context.getState(getPositions=True,getEnergy=True)\n",
    "print(F\"Potential energy before minimization is {st.getPotentialEnergy()}\")\n",
    "\n",
    "simulation.minimizeEnergy(maxIterations=100)\n",
    "\n",
    "st = simulation.context.getState(getPositions=True,getEnergy=True)\n",
    "print(F\"Potential energy after minimization is {st.getPotentialEnergy()}\")"
   ]
  },
  {
   "cell_type": "code",
   "execution_count": 27,
   "metadata": {},
   "outputs": [
    {
     "name": "stdout",
     "output_type": "stream",
     "text": [
      "Equilibrating...\n",
      "#\"Step\",\"Potential Energy (kJ/mole)\",\"Temperature (K)\"\n",
      "1000,33.85940764095075,290.3302467358841\n",
      "2000,29.901427185530324,262.4253172506879\n"
     ]
    }
   ],
   "source": [
    "from sys import stdout\n",
    "\n",
    "print('Equilibrating...')\n",
    "\n",
    "simulation.reporters.append(app.StateDataReporter(stdout, 1000, step=True, \n",
    "    potentialEnergy=True, temperature=True, separator=','))\n",
    "simulation.context.setVelocitiesToTemperature(150.0*kelvin)\n",
    "simulation.step(2500)"
   ]
  },
  {
   "cell_type": "code",
   "execution_count": 28,
   "metadata": {},
   "outputs": [
    {
     "name": "stdout",
     "output_type": "stream",
     "text": [
      "Running Production...\n",
      "#\"Step\",\"Time (ps)\",\"Potential Energy (kJ/mole)\",\"Temperature (K)\",\"Speed (ns/day)\"\n",
      "250000,500.0000000016593,35.78937227990214,230.7086117052473,0\n",
      "500000,999.9999999901769,38.840745552357056,448.88903240574814,3.46e+04\n",
      "750000,1499.9999999783536,40.49451872188578,233.89084236908866,3.46e+04\n",
      "1000000,1999.9999999665301,34.29015322498099,261.1644952297394,3.46e+04\n",
      "1250000,2499.9999999547067,72.7620232530363,141.71665219933567,3.46e+04\n",
      "1500000,2999.9999999428833,37.6243229434733,388.6689276580601,3.47e+04\n",
      "1750000,3499.99999993106,47.10073636114542,270.6324975693699,3.46e+04\n",
      "2000000,3999.9999999192364,53.197447555725475,435.1405495461535,3.46e+04\n",
      "2250000,4499.9999999992715,42.48141018787739,260.5876880304202,3.46e+04\n",
      "2500000,5000.000000101135,37.69682080043497,364.8057162074256,3.46e+04\n",
      "2750000,5500.000000202998,31.06847156796446,320.0168200571072,3.46e+04\n",
      "3000000,6000.000000304862,31.899722407533933,190.80909221194443,3.46e+04\n",
      "3250000,6500.000000406725,35.510594937064454,215.88705279408205,3.46e+04\n",
      "3500000,7000.0000005085885,51.932219141112874,364.7560755979568,3.45e+04\n",
      "3750000,7500.000000610452,27.171732322644818,354.9322707901342,3.45e+04\n",
      "4000000,8000.000000712315,56.00789958149336,321.63110784918365,3.45e+04\n",
      "4250000,8500.000000814178,34.15778053377037,178.45407623887206,3.45e+04\n",
      "4500000,9000.000000916041,37.08374293716263,403.46596493579705,3.45e+04\n",
      "4750000,9500.000001017905,32.59094988333413,248.83297946853432,3.45e+04\n",
      "5000000,10000.000001119768,63.287517731522186,157.82324173699124,3.45e+04\n",
      "5250000,10500.000001221631,35.321216761192474,262.07796967820735,3.45e+04\n",
      "5500000,11000.000001323495,25.021062303621378,622.716306204452,3.45e+04\n",
      "5750000,11500.000001425358,60.14782261707067,351.44581221210353,3.45e+04\n",
      "6000000,12000.000001527222,29.254484407843947,408.21034674129925,3.45e+04\n",
      "6250000,12500.000001629085,51.491829259962245,291.1942963027148,3.45e+04\n",
      "6500000,13000.000001730948,32.598661178221036,229.8049590503096,3.44e+04\n",
      "6750000,13500.000001832812,60.391600482595344,229.93222319755853,3.44e+04\n",
      "7000000,14000.000001934675,42.91166978246941,202.97995204514896,3.44e+04\n",
      "7250000,14500.000002036539,52.66086750431301,498.73827564914546,3.44e+04\n",
      "7500000,15000.000002138402,30.150021652063536,400.38334494036684,3.44e+04\n",
      "7750000,15500.000002240266,34.64682798229781,306.7357776011796,3.44e+04\n",
      "8000000,16000.000002342129,30.27572065814951,399.4642980585093,3.44e+04\n",
      "8250000,16500.00000244399,42.38566371706814,379.9888640748571,3.43e+04\n",
      "8500000,17000.000002545854,41.00876823395718,317.97747691176437,3.43e+04\n",
      "8750000,17500.000002647717,38.7339293835892,275.4417598979022,3.43e+04\n",
      "9000000,18000.00000274958,38.93462040758436,178.80963339737974,3.43e+04\n",
      "9250000,18500.000002851444,28.81044626154054,278.7371703871,3.43e+04\n",
      "9500000,19000.000002953308,57.738636941642426,168.37366872809093,3.43e+04\n",
      "9750000,19500.00000305517,56.244067048775236,200.80340846138637,3.43e+04\n",
      "10000000,20000.000003157034,66.94591568531784,368.81450436049073,3.43e+04\n",
      "Done!\n",
      "Time required for simulation: 50.44125199317932 seconds\n"
     ]
    }
   ],
   "source": [
    "import time as time\n",
    "\n",
    "print('Running Production...')\n",
    "\n",
    "# Begin timer\n",
    "tinit=time.time()\n",
    "\n",
    "# Clear simulation reporters\n",
    "simulation.reporters.clear()\n",
    "\n",
    "# Reinitialize simulation reporters. We do this because we want different information printed from the production run than the equilibration run.\n",
    "# output basic simulation information below every 250000 steps - (which is equal to 2 fs(250,000) = 500,000 fs = 500 ps)\n",
    "simulation.reporters.append(app.StateDataReporter(stdout, 250000, \n",
    "    step=True, time=True, potentialEnergy=True, temperature=True, \n",
    "    speed=True, separator=','))\n",
    "\n",
    "# write out a trajectory (i.e., coordinates vs. time) to a DCD\n",
    "# file every 100 steps - 0.2 ps\n",
    "simulation.reporters.append(app.DCDReporter(outdir+'butane_test.dcd', 100))\n",
    "\n",
    "# run the simulation for 1.0x10^7 steps - 20 ns\n",
    "simulation.step(10000000)\n",
    "\n",
    "# End timer\n",
    "tfinal=time.time()\n",
    "print('Done!')\n",
    "print('Time required for simulation:', tfinal-tinit, 'seconds')"
   ]
  },
  {
   "cell_type": "code",
   "execution_count": 29,
   "metadata": {
    "colab": {
     "base_uri": "https://localhost:8080/"
    },
    "id": "S7txpJFO_xSQ",
    "outputId": "f3e63f04-67ee-44cc-feb7-7f629c591847"
   },
   "outputs": [
    {
     "data": {
      "text/plain": [
       "<mdtraj.Trajectory with 100000 frames, 14 atoms, 1 residues, without unitcells at 0x13a848f50>"
      ]
     },
     "execution_count": 29,
     "metadata": {},
     "output_type": "execute_result"
    }
   ],
   "source": [
    "import mdtraj as md\n",
    "traj = md.load(outdir+'butane_test.dcd', top=PDB_file_name)\n",
    "traj"
   ]
  },
  {
   "cell_type": "code",
   "execution_count": 30,
   "metadata": {
    "colab": {
     "base_uri": "https://localhost:8080/",
     "height": 483
    },
    "id": "qWG80bj3BE1s",
    "outputId": "f34928bf-3bab-4f3a-9c40-ce3947cba336"
   },
   "outputs": [
    {
     "data": {
      "text/html": [
       "<div>\n",
       "<style scoped>\n",
       "    .dataframe tbody tr th:only-of-type {\n",
       "        vertical-align: middle;\n",
       "    }\n",
       "\n",
       "    .dataframe tbody tr th {\n",
       "        vertical-align: top;\n",
       "    }\n",
       "\n",
       "    .dataframe thead th {\n",
       "        text-align: right;\n",
       "    }\n",
       "</style>\n",
       "<table border=\"1\" class=\"dataframe\">\n",
       "  <thead>\n",
       "    <tr style=\"text-align: right;\">\n",
       "      <th></th>\n",
       "      <th>serial</th>\n",
       "      <th>name</th>\n",
       "      <th>element</th>\n",
       "      <th>resSeq</th>\n",
       "      <th>resName</th>\n",
       "      <th>chainID</th>\n",
       "      <th>segmentID</th>\n",
       "    </tr>\n",
       "  </thead>\n",
       "  <tbody>\n",
       "    <tr>\n",
       "      <th>0</th>\n",
       "      <td>1</td>\n",
       "      <td>C1</td>\n",
       "      <td>C</td>\n",
       "      <td>1</td>\n",
       "      <td>NBU</td>\n",
       "      <td>0</td>\n",
       "      <td></td>\n",
       "    </tr>\n",
       "    <tr>\n",
       "      <th>1</th>\n",
       "      <td>2</td>\n",
       "      <td>H11</td>\n",
       "      <td>H</td>\n",
       "      <td>1</td>\n",
       "      <td>NBU</td>\n",
       "      <td>0</td>\n",
       "      <td></td>\n",
       "    </tr>\n",
       "    <tr>\n",
       "      <th>2</th>\n",
       "      <td>3</td>\n",
       "      <td>H12</td>\n",
       "      <td>H</td>\n",
       "      <td>1</td>\n",
       "      <td>NBU</td>\n",
       "      <td>0</td>\n",
       "      <td></td>\n",
       "    </tr>\n",
       "    <tr>\n",
       "      <th>3</th>\n",
       "      <td>4</td>\n",
       "      <td>H13</td>\n",
       "      <td>H</td>\n",
       "      <td>1</td>\n",
       "      <td>NBU</td>\n",
       "      <td>0</td>\n",
       "      <td></td>\n",
       "    </tr>\n",
       "    <tr>\n",
       "      <th>4</th>\n",
       "      <td>5</td>\n",
       "      <td>C2</td>\n",
       "      <td>C</td>\n",
       "      <td>1</td>\n",
       "      <td>NBU</td>\n",
       "      <td>0</td>\n",
       "      <td></td>\n",
       "    </tr>\n",
       "    <tr>\n",
       "      <th>5</th>\n",
       "      <td>6</td>\n",
       "      <td>H21</td>\n",
       "      <td>H</td>\n",
       "      <td>1</td>\n",
       "      <td>NBU</td>\n",
       "      <td>0</td>\n",
       "      <td></td>\n",
       "    </tr>\n",
       "    <tr>\n",
       "      <th>6</th>\n",
       "      <td>7</td>\n",
       "      <td>H22</td>\n",
       "      <td>H</td>\n",
       "      <td>1</td>\n",
       "      <td>NBU</td>\n",
       "      <td>0</td>\n",
       "      <td></td>\n",
       "    </tr>\n",
       "    <tr>\n",
       "      <th>7</th>\n",
       "      <td>8</td>\n",
       "      <td>C3</td>\n",
       "      <td>C</td>\n",
       "      <td>1</td>\n",
       "      <td>NBU</td>\n",
       "      <td>0</td>\n",
       "      <td></td>\n",
       "    </tr>\n",
       "    <tr>\n",
       "      <th>8</th>\n",
       "      <td>9</td>\n",
       "      <td>H31</td>\n",
       "      <td>H</td>\n",
       "      <td>1</td>\n",
       "      <td>NBU</td>\n",
       "      <td>0</td>\n",
       "      <td></td>\n",
       "    </tr>\n",
       "    <tr>\n",
       "      <th>9</th>\n",
       "      <td>10</td>\n",
       "      <td>H32</td>\n",
       "      <td>H</td>\n",
       "      <td>1</td>\n",
       "      <td>NBU</td>\n",
       "      <td>0</td>\n",
       "      <td></td>\n",
       "    </tr>\n",
       "    <tr>\n",
       "      <th>10</th>\n",
       "      <td>11</td>\n",
       "      <td>C4</td>\n",
       "      <td>C</td>\n",
       "      <td>1</td>\n",
       "      <td>NBU</td>\n",
       "      <td>0</td>\n",
       "      <td></td>\n",
       "    </tr>\n",
       "    <tr>\n",
       "      <th>11</th>\n",
       "      <td>12</td>\n",
       "      <td>H41</td>\n",
       "      <td>H</td>\n",
       "      <td>1</td>\n",
       "      <td>NBU</td>\n",
       "      <td>0</td>\n",
       "      <td></td>\n",
       "    </tr>\n",
       "    <tr>\n",
       "      <th>12</th>\n",
       "      <td>13</td>\n",
       "      <td>H42</td>\n",
       "      <td>H</td>\n",
       "      <td>1</td>\n",
       "      <td>NBU</td>\n",
       "      <td>0</td>\n",
       "      <td></td>\n",
       "    </tr>\n",
       "    <tr>\n",
       "      <th>13</th>\n",
       "      <td>14</td>\n",
       "      <td>H43</td>\n",
       "      <td>H</td>\n",
       "      <td>1</td>\n",
       "      <td>NBU</td>\n",
       "      <td>0</td>\n",
       "      <td></td>\n",
       "    </tr>\n",
       "  </tbody>\n",
       "</table>\n",
       "</div>"
      ],
      "text/plain": [
       "    serial name element  resSeq resName  chainID segmentID\n",
       "0        1   C1       C       1     NBU        0          \n",
       "1        2  H11       H       1     NBU        0          \n",
       "2        3  H12       H       1     NBU        0          \n",
       "3        4  H13       H       1     NBU        0          \n",
       "4        5   C2       C       1     NBU        0          \n",
       "5        6  H21       H       1     NBU        0          \n",
       "6        7  H22       H       1     NBU        0          \n",
       "7        8   C3       C       1     NBU        0          \n",
       "8        9  H31       H       1     NBU        0          \n",
       "9       10  H32       H       1     NBU        0          \n",
       "10      11   C4       C       1     NBU        0          \n",
       "11      12  H41       H       1     NBU        0          \n",
       "12      13  H42       H       1     NBU        0          \n",
       "13      14  H43       H       1     NBU        0          "
      ]
     },
     "execution_count": 30,
     "metadata": {},
     "output_type": "execute_result"
    }
   ],
   "source": [
    "atoms, bonds = traj.topology.to_dataframe()\n",
    "atoms"
   ]
  },
  {
   "cell_type": "code",
   "execution_count": 31,
   "metadata": {
    "colab": {
     "base_uri": "https://localhost:8080/",
     "height": 295
    },
    "id": "8IkYIlYkBLeP",
    "outputId": "26651f37-e370-4133-86c3-056ca61800bc"
   },
   "outputs": [
    {
     "data": {
      "image/png": "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",
      "text/plain": [
       "<Figure size 640x480 with 1 Axes>"
      ]
     },
     "metadata": {},
     "output_type": "display_data"
    }
   ],
   "source": [
    "bond_indices = [4, 7] # atoms to define the bond length\n",
    "bond_length = md.compute_distances(traj, [bond_indices])\n",
    "\n",
    "bondcounts, binedges, otherstuff = plt.hist(bond_length, bins=120)\n",
    "plt.title('C-C bond length histogram')\n",
    "plt.xlabel('Bond length (nm)')\n",
    "plt.ylabel('Counts')\n",
    "plt.show()"
   ]
  },
  {
   "cell_type": "code",
   "execution_count": 32,
   "metadata": {
    "colab": {
     "base_uri": "https://localhost:8080/",
     "height": 295
    },
    "id": "o2fyETQ3DNcJ",
    "outputId": "ea55283f-952c-4101-a6cd-96487d99a91c"
   },
   "outputs": [
    {
     "data": {
      "image/png": "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",
      "text/plain": [
       "<Figure size 640x480 with 1 Axes>"
      ]
     },
     "metadata": {},
     "output_type": "display_data"
    }
   ],
   "source": [
    "kB = 8.31446/1000 # Boltzmann constant in kJ/mol\n",
    "Temp = 298.15 # simulation temperature\n",
    "bondcounts[bondcounts==0] = 0.1 # get rid of any bins with 0 counts/infinite energy\n",
    "pmf = -kB*Temp*np.log(bondcounts) # W(x) = -kT*ln[p(x)] = -kT*ln[n(x)] + C\n",
    "pmf = pmf - np.min(pmf) # subtract off minimum value so that energies start from 0\n",
    "\n",
    "bincenters = (binedges[1:] + binedges[:-1])/2 # compute centers of histogram bins\n",
    "\n",
    "plt.plot(bincenters, pmf)\n",
    "plt.xlabel('Bond length (nm)')\n",
    "plt.ylabel('Relative free energy (kJ/mol)')\n",
    "plt.title('C-C bond length pmf')\n",
    "plt.show()"
   ]
  },
  {
   "cell_type": "code",
   "execution_count": 33,
   "metadata": {
    "colab": {
     "base_uri": "https://localhost:8080/",
     "height": 295
    },
    "id": "ukZa6k5uChho",
    "outputId": "691cefdf-1458-49ae-e5eb-d42a0bff2cdd"
   },
   "outputs": [
    {
     "data": {
      "image/png": "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",
      "text/plain": [
       "<Figure size 640x480 with 1 Axes>"
      ]
     },
     "metadata": {},
     "output_type": "display_data"
    }
   ],
   "source": [
    "bond_indices = [4, 5] # many possibilities!\n",
    "bondlength = md.compute_distances(traj, [bond_indices])\n",
    "\n",
    "lengthcounts, binedges, otherstuff = plt.hist(bondlength, bins=100)\n",
    "plt.title('C-H bond length')\n",
    "plt.xlabel('Bond length (nm)')\n",
    "plt.ylabel('Counts')\n",
    "plt.show()"
   ]
  },
  {
   "cell_type": "code",
   "execution_count": 34,
   "metadata": {
    "colab": {
     "base_uri": "https://localhost:8080/",
     "height": 295
    },
    "id": "vHKuVS7ADa8z",
    "outputId": "ad47b4de-75d5-4dee-d8c2-f1a2699eb23f"
   },
   "outputs": [
    {
     "data": {
      "image/png": "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",
      "text/plain": [
       "<Figure size 640x480 with 1 Axes>"
      ]
     },
     "metadata": {},
     "output_type": "display_data"
    }
   ],
   "source": [
    "kB = 8.31446/1000 # Boltzmann constant in kJ/mol\n",
    "Temp = 298.15 # simulation temperature\n",
    "lengthcounts[lengthcounts==0] = 0.1 # get rid of any bins with 0 counts/infinite energy\n",
    "pmf = -kB*Temp*np.log(lengthcounts) # W(x) = -kT*ln[p(x)] = -kT*ln[n(x)] + C\n",
    "pmf = pmf - np.min(pmf) # subtract off minimum value so that energies start from 0\n",
    "\n",
    "bincenters = (binedges[1:] + binedges[:-1])/2 # compute centers of histogram bins\n",
    "\n",
    "plt.plot(bincenters, pmf)\n",
    "plt.xlabel('Bond length (nm)')\n",
    "plt.ylabel('Relative free energy (kJ/mol)')\n",
    "plt.title('C-H bond length pmf')\n",
    "plt.show()"
   ]
  },
  {
   "cell_type": "code",
   "execution_count": 35,
   "metadata": {
    "colab": {
     "base_uri": "https://localhost:8080/",
     "height": 299
    },
    "id": "T5oNvZGHBfs4",
    "outputId": "f4cd44cb-3bf3-4e29-f9ec-5e543c6a3923"
   },
   "outputs": [
    {
     "data": {
      "image/png": "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",
      "text/plain": [
       "<Figure size 640x480 with 1 Axes>"
      ]
     },
     "metadata": {},
     "output_type": "display_data"
    }
   ],
   "source": [
    "phi_indices = [0, 4, 7, 10] # atoms to define the torsion angle\n",
    "phi = md.compute_dihedrals(traj, [phi_indices])\n",
    "\n",
    "phicounts, binedges, otherstuff = plt.hist(phi, bins=90) # create a histogram with 90 bins\n",
    "plt.title('H-C-C-H torsion angle')\n",
    "plt.xlabel(r'$\\phi$ (rad)')\n",
    "plt.ylabel('Counts')\n",
    "plt.show()"
   ]
  },
  {
   "cell_type": "code",
   "execution_count": 36,
   "metadata": {
    "colab": {
     "base_uri": "https://localhost:8080/",
     "height": 299
    },
    "id": "XTqsagjkB9XZ",
    "outputId": "f98bc37f-5f93-4f2a-c3bf-cf1209b4281a"
   },
   "outputs": [
    {
     "data": {
      "image/png": "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",
      "text/plain": [
       "<Figure size 640x480 with 1 Axes>"
      ]
     },
     "metadata": {},
     "output_type": "display_data"
    }
   ],
   "source": [
    "kB = 8.31446/1000 # Boltzmann constant in kJ/mol\n",
    "Temp = 298.15 # simulation temperature\n",
    "phicounts[phicounts==0] = 0.1 # get rid of any bins with 0 counts/infinite energy\n",
    "pmf = -kB*Temp*np.log(phicounts) # W(x) = -kT*ln[p(x)] = -kT*ln[n(x)] + C\n",
    "pmf = pmf - np.min(pmf) # subtract off minimum value so that energies start from 0\n",
    "\n",
    "bincenters = (binedges[1:] + binedges[:-1])/2 # compute centers of histogram bins\n",
    "\n",
    "plt.plot(bincenters, pmf)\n",
    "plt.title('H-C-C-H torsion pmf')\n",
    "plt.xlabel(r'$\\phi$ (rad)')\n",
    "plt.ylabel('Relative free energy (kJ/mol)')\n",
    "plt.show()"
   ]
  },
  {
   "cell_type": "code",
   "execution_count": 37,
   "metadata": {
    "colab": {
     "base_uri": "https://localhost:8080/",
     "height": 295
    },
    "id": "7m47X3aGCHL_",
    "outputId": "b1bac94a-fc45-4a0d-8cc4-e9e94a51c7d5"
   },
   "outputs": [
    {
     "data": {
      "image/png": "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",
      "text/plain": [
       "<Figure size 640x480 with 1 Axes>"
      ]
     },
     "metadata": {},
     "output_type": "display_data"
    }
   ],
   "source": [
    "angle_indices = [0, 4, 7] # or could do [4, 7, 10]\n",
    "bondangle = md.compute_angles(traj, [angle_indices])\n",
    "\n",
    "anglecounts, binedges, otherstuff = plt.hist(bondangle, bins=100)\n",
    "plt.title('C-C-C bond angle')\n",
    "plt.xlabel('Bond angle (rad)')\n",
    "plt.ylabel('Counts')\n",
    "plt.show()"
   ]
  },
  {
   "cell_type": "code",
   "execution_count": 38,
   "metadata": {
    "colab": {
     "base_uri": "https://localhost:8080/",
     "height": 279
    },
    "id": "HlyahiMcCa3e",
    "outputId": "de006418-a006-4ee3-b8dd-485772df079d"
   },
   "outputs": [
    {
     "data": {
      "image/png": "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",
      "text/plain": [
       "<Figure size 640x480 with 1 Axes>"
      ]
     },
     "metadata": {},
     "output_type": "display_data"
    }
   ],
   "source": [
    "anglecounts[anglecounts==0] = 0.1\n",
    "pmf = -kB*Temp*np.log(anglecounts)\n",
    "pmf = pmf - np.min(pmf)\n",
    "\n",
    "bincenters = (binedges[1:] + binedges[:-1])/2\n",
    "\n",
    "\n",
    "plt.plot(bincenters, pmf)\n",
    "plt.xlabel('Bond angle (rad)')\n",
    "plt.ylabel('Relative free energy (kJ/mol)')\n",
    "plt.show()"
   ]
  },
  {
   "cell_type": "code",
   "execution_count": null,
   "metadata": {
    "id": "bu4VSAK2Cf_r"
   },
   "outputs": [],
   "source": []
  }
 ],
 "metadata": {
  "accelerator": "GPU",
  "colab": {
   "collapsed_sections": [],
   "include_colab_link": true,
   "name": "Butane_OpenMM.ipynb",
   "provenance": []
  },
  "kernelspec": {
   "display_name": "Python 3 (ipykernel)",
   "language": "python",
   "name": "python3"
  },
  "language_info": {
   "codemirror_mode": {
    "name": "ipython",
    "version": 3
   },
   "file_extension": ".py",
   "mimetype": "text/x-python",
   "name": "python",
   "nbconvert_exporter": "python",
   "pygments_lexer": "ipython3",
   "version": "3.11.8"
  },
  "widgets": {
   "application/vnd.jupyter.widget-state+json": {
    "1dbca630db2543ff9784f6f91f80e2cd": {
     "model_module": "@jupyter-widgets/base",
     "model_module_version": "1.2.0",
     "model_name": "LayoutModel",
     "state": {
      "_model_module": "@jupyter-widgets/base",
      "_model_module_version": "1.2.0",
      "_model_name": "LayoutModel",
      "_view_count": null,
      "_view_module": "@jupyter-widgets/base",
      "_view_module_version": "1.2.0",
      "_view_name": "LayoutView",
      "align_content": null,
      "align_items": null,
      "align_self": null,
      "border": null,
      "bottom": null,
      "display": null,
      "flex": null,
      "flex_flow": null,
      "grid_area": null,
      "grid_auto_columns": null,
      "grid_auto_flow": null,
      "grid_auto_rows": null,
      "grid_column": null,
      "grid_gap": null,
      "grid_row": null,
      "grid_template_areas": null,
      "grid_template_columns": null,
      "grid_template_rows": null,
      "height": null,
      "justify_content": null,
      "justify_items": null,
      "left": null,
      "margin": null,
      "max_height": null,
      "max_width": null,
      "min_height": null,
      "min_width": null,
      "object_fit": null,
      "object_position": null,
      "order": null,
      "overflow": null,
      "overflow_x": null,
      "overflow_y": null,
      "padding": null,
      "right": null,
      "top": null,
      "visibility": null,
      "width": null
     }
    },
    "2f87206d8a7240a8bc28bedb46ffe524": {
     "model_module": "nglview-js-widgets",
     "model_module_version": "3.0.1",
     "model_name": "NGLModel",
     "state": {
      "_camera_orientation": [
       5.36996847678702,
       16.38649005142443,
       16.79464164223899,
       0,
       -18.434430664727387,
       -7.713073240524904,
       13.419905841398139,
       0,
       14.517190160771683,
       -15.855757645700995,
       10.828653880105302,
       0,
       2.8865000903606415,
       -2.639499932527542,
       -0.03149998188018799,
       1
      ],
      "_camera_str": "orthographic",
      "_dom_classes": [],
      "_gui_theme": null,
      "_ibtn_fullscreen": "IPY_MODEL_8fe24a18868c438187dc53ef24ac0c47",
      "_igui": null,
      "_iplayer": "IPY_MODEL_ca93df9ece0849f6a858e1ef75387970",
      "_model_module": "nglview-js-widgets",
      "_model_module_version": "3.0.1",
      "_model_name": "NGLModel",
      "_ngl_color_dict": {},
      "_ngl_coordinate_resource": {},
      "_ngl_full_stage_parameters": {
       "ambientColor": 14540253,
       "ambientIntensity": 0.2,
       "backgroundColor": "white",
       "cameraEyeSep": 0.3,
       "cameraFov": 40,
       "cameraType": "perspective",
       "clipDist": 10,
       "clipFar": 100,
       "clipNear": 0,
       "fogFar": 100,
       "fogNear": 50,
       "hoverTimeout": 0,
       "impostor": true,
       "lightColor": 14540253,
       "lightIntensity": 1,
       "mousePreset": "default",
       "panSpeed": 1,
       "quality": "medium",
       "rotateSpeed": 2,
       "sampleLevel": 0,
       "tooltip": true,
       "workerDefault": true,
       "zoomSpeed": 1.2
      },
      "_ngl_msg_archive": [
       {
        "args": [
         {
          "binary": false,
          "data": "MODEL        0\nATOM      1  C1  NBU A   1      -1.505   3.807  -0.759  1.00  0.00           C  \nATOM      2  H11 NBU A   1      -0.828   3.073  -1.213  1.00  0.00           H  \nATOM      3  H12 NBU A   1      -1.121   4.271   0.158  1.00  0.00           H  \nATOM      4  H13 NBU A   1      -1.429   4.620  -1.492  1.00  0.00           H  \nATOM      5  C2  NBU A   1      -2.848   3.113  -0.589  1.00  0.00           C  \nATOM      6  H21 NBU A   1      -3.037   2.598  -1.539  1.00  0.00           H  \nATOM      7  H22 NBU A   1      -3.692   3.807  -0.491  1.00  0.00           H  \nATOM      8  C3  NBU A   1      -2.755   2.198   0.651  1.00  0.00           C  \nATOM      9  H31 NBU A   1      -2.643   2.899   1.488  1.00  0.00           H  \nATOM     10  H32 NBU A   1      -1.874   1.549   0.575  1.00  0.00           H  \nATOM     11  C4  NBU A   1      -4.052   1.332   0.737  1.00  0.00           C  \nATOM     12  H41 NBU A   1      -4.945   1.962   0.829  1.00  0.00           H  \nATOM     13  H42 NBU A   1      -4.005   0.659   1.602  1.00  0.00           H  \nATOM     14  H43 NBU A   1      -4.282   0.785  -0.185  1.00  0.00           H  \nTER      15      NBU A   1\nENDMDL\nCONECT    1    4    5    2    3\nCONECT    2    1\nCONECT    3    1\nCONECT    4    1\nCONECT    5    1    7    8    6\nCONECT    6    5\nCONECT    7    5\nCONECT    8    5    9   11   10\nCONECT    9    8\nCONECT   10    8\nCONECT   11    8   12   13   14\nCONECT   12   11\nCONECT   13   11\nCONECT   14   11\nEND\n",
          "type": "blob"
         }
        ],
        "kwargs": {
         "defaultRepresentation": true,
         "ext": "pdb",
         "name": "nglview.adaptor.MDTrajTrajectory"
        },
        "methodName": "loadFile",
        "reconstruc_color_scheme": false,
        "target": "Stage",
        "type": "call_method"
       }
      ],
      "_ngl_original_stage_parameters": {
       "ambientColor": 14540253,
       "ambientIntensity": 0.2,
       "backgroundColor": "white",
       "cameraEyeSep": 0.3,
       "cameraFov": 40,
       "cameraType": "perspective",
       "clipDist": 10,
       "clipFar": 100,
       "clipNear": 0,
       "fogFar": 100,
       "fogNear": 50,
       "hoverTimeout": 0,
       "impostor": true,
       "lightColor": 14540253,
       "lightIntensity": 1,
       "mousePreset": "default",
       "panSpeed": 1,
       "quality": "medium",
       "rotateSpeed": 2,
       "sampleLevel": 0,
       "tooltip": true,
       "workerDefault": true,
       "zoomSpeed": 1.2
      },
      "_ngl_repr_dict": {
       "0": {
        "0": {
         "params": {
          "aspectRatio": 1.5,
          "assembly": "default",
          "bondScale": 0.3,
          "bondSpacing": 0.75,
          "clipCenter": {
           "x": 0,
           "y": 0,
           "z": 0
          },
          "clipNear": 0,
          "clipRadius": 0,
          "colorMode": "hcl",
          "colorReverse": false,
          "colorScale": "",
          "colorScheme": "element",
          "colorValue": 9474192,
          "cylinderOnly": false,
          "defaultAssembly": "",
          "depthWrite": true,
          "diffuse": 16777215,
          "diffuseInterior": false,
          "disableImpostor": false,
          "disablePicking": false,
          "flatShaded": false,
          "interiorColor": 2236962,
          "interiorDarkening": 0,
          "lazy": false,
          "lineOnly": false,
          "linewidth": 2,
          "matrix": {
           "elements": [
            1,
            0,
            0,
            0,
            0,
            1,
            0,
            0,
            0,
            0,
            1,
            0,
            0,
            0,
            0,
            1
           ]
          },
          "metalness": 0,
          "multipleBond": "off",
          "opacity": 1,
          "openEnded": true,
          "quality": "high",
          "radialSegments": 20,
          "radiusData": {},
          "radiusScale": 2,
          "radiusSize": 0.15,
          "radiusType": "size",
          "roughness": 0.4,
          "sele": "",
          "side": "double",
          "sphereDetail": 2,
          "useInteriorColor": true,
          "visible": true,
          "wireframe": false
         },
         "type": "ball+stick"
        }
       },
       "1": {
        "0": {
         "params": {
          "aspectRatio": 1.5,
          "assembly": "default",
          "bondScale": 0.3,
          "bondSpacing": 0.75,
          "clipCenter": {
           "x": 0,
           "y": 0,
           "z": 0
          },
          "clipNear": 0,
          "clipRadius": 0,
          "colorMode": "hcl",
          "colorReverse": false,
          "colorScale": "",
          "colorScheme": "element",
          "colorValue": 9474192,
          "cylinderOnly": false,
          "defaultAssembly": "",
          "depthWrite": true,
          "diffuse": 16777215,
          "diffuseInterior": false,
          "disableImpostor": false,
          "disablePicking": false,
          "flatShaded": false,
          "interiorColor": 2236962,
          "interiorDarkening": 0,
          "lazy": false,
          "lineOnly": false,
          "linewidth": 2,
          "matrix": {
           "elements": [
            1,
            0,
            0,
            0,
            0,
            1,
            0,
            0,
            0,
            0,
            1,
            0,
            0,
            0,
            0,
            1
           ]
          },
          "metalness": 0,
          "multipleBond": "off",
          "opacity": 1,
          "openEnded": true,
          "quality": "high",
          "radialSegments": 20,
          "radiusData": {},
          "radiusScale": 2,
          "radiusSize": 0.15,
          "radiusType": "size",
          "roughness": 0.4,
          "sele": "",
          "side": "double",
          "sphereDetail": 2,
          "useInteriorColor": true,
          "visible": true,
          "wireframe": false
         },
         "type": "ball+stick"
        }
       }
      },
      "_ngl_serialize": false,
      "_ngl_version": "2.0.0-dev.36",
      "_ngl_view_id": [
       "EB216DAF-0D6A-4C72-872E-577D96B20A95"
      ],
      "_player_dict": {},
      "_scene_position": {},
      "_scene_rotation": {},
      "_synced_model_ids": [],
      "_synced_repr_model_ids": [],
      "_view_count": null,
      "_view_height": "",
      "_view_module": "nglview-js-widgets",
      "_view_module_version": "3.0.1",
      "_view_name": "NGLView",
      "_view_width": "",
      "background": "white",
      "frame": 87,
      "gui_style": null,
      "layout": "IPY_MODEL_1dbca630db2543ff9784f6f91f80e2cd",
      "max_frame": 99999,
      "n_components": 2,
      "picked": {}
     }
    },
    "33270d05de3a405c9e1c8f3d97f0e2c7": {
     "model_module": "@jupyter-widgets/base",
     "model_module_version": "1.2.0",
     "model_name": "LayoutModel",
     "state": {
      "_model_module": "@jupyter-widgets/base",
      "_model_module_version": "1.2.0",
      "_model_name": "LayoutModel",
      "_view_count": null,
      "_view_module": "@jupyter-widgets/base",
      "_view_module_version": "1.2.0",
      "_view_name": "LayoutView",
      "align_content": null,
      "align_items": null,
      "align_self": null,
      "border": null,
      "bottom": null,
      "display": null,
      "flex": null,
      "flex_flow": null,
      "grid_area": null,
      "grid_auto_columns": null,
      "grid_auto_flow": null,
      "grid_auto_rows": null,
      "grid_column": null,
      "grid_gap": null,
      "grid_row": null,
      "grid_template_areas": null,
      "grid_template_columns": null,
      "grid_template_rows": null,
      "height": null,
      "justify_content": null,
      "justify_items": null,
      "left": null,
      "margin": null,
      "max_height": null,
      "max_width": null,
      "min_height": null,
      "min_width": null,
      "object_fit": null,
      "object_position": null,
      "order": null,
      "overflow": null,
      "overflow_x": null,
      "overflow_y": null,
      "padding": null,
      "right": null,
      "top": null,
      "visibility": null,
      "width": "34px"
     }
    },
    "6e59172c44c645e8b11cbdebf38ee024": {
     "model_module": "@jupyter-widgets/controls",
     "model_module_version": "1.5.0",
     "model_name": "IntSliderModel",
     "state": {
      "_dom_classes": [],
      "_model_module": "@jupyter-widgets/controls",
      "_model_module_version": "1.5.0",
      "_model_name": "IntSliderModel",
      "_view_count": null,
      "_view_module": "@jupyter-widgets/controls",
      "_view_module_version": "1.5.0",
      "_view_name": "IntSliderView",
      "continuous_update": true,
      "description": "",
      "description_tooltip": null,
      "disabled": false,
      "layout": "IPY_MODEL_f41de2ecc4304f09b4d7af6df86ef396",
      "max": 99999,
      "min": 0,
      "orientation": "horizontal",
      "readout": true,
      "readout_format": "d",
      "step": 1,
      "style": "IPY_MODEL_a172355f75e24fc4a2b371239faf6134",
      "value": 86
     }
    },
    "8fe24a18868c438187dc53ef24ac0c47": {
     "model_module": "@jupyter-widgets/controls",
     "model_module_version": "1.5.0",
     "model_name": "ButtonModel",
     "state": {
      "_dom_classes": [],
      "_model_module": "@jupyter-widgets/controls",
      "_model_module_version": "1.5.0",
      "_model_name": "ButtonModel",
      "_view_count": null,
      "_view_module": "@jupyter-widgets/controls",
      "_view_module_version": "1.5.0",
      "_view_name": "ButtonView",
      "button_style": "",
      "description": "",
      "disabled": false,
      "icon": "compress",
      "layout": "IPY_MODEL_33270d05de3a405c9e1c8f3d97f0e2c7",
      "style": "IPY_MODEL_d0d7174a01664ddc96f282cc68e53ad0",
      "tooltip": ""
     }
    },
    "a172355f75e24fc4a2b371239faf6134": {
     "model_module": "@jupyter-widgets/controls",
     "model_module_version": "1.5.0",
     "model_name": "SliderStyleModel",
     "state": {
      "_model_module": "@jupyter-widgets/controls",
      "_model_module_version": "1.5.0",
      "_model_name": "SliderStyleModel",
      "_view_count": null,
      "_view_module": "@jupyter-widgets/base",
      "_view_module_version": "1.2.0",
      "_view_name": "StyleView",
      "description_width": "",
      "handle_color": null
     }
    },
    "c19adbbaed054fd9a630835c7b8c0051": {
     "model_module": "@jupyter-widgets/controls",
     "model_module_version": "1.5.0",
     "model_name": "PlayModel",
     "state": {
      "_dom_classes": [],
      "_model_module": "@jupyter-widgets/controls",
      "_model_module_version": "1.5.0",
      "_model_name": "PlayModel",
      "_playing": false,
      "_repeat": false,
      "_view_count": null,
      "_view_module": "@jupyter-widgets/controls",
      "_view_module_version": "1.5.0",
      "_view_name": "PlayView",
      "description": "",
      "description_tooltip": null,
      "disabled": false,
      "interval": 100,
      "layout": "IPY_MODEL_c344760dfaf34cb3afd6b03ec8b8eead",
      "max": 99999,
      "min": 0,
      "playing": false,
      "repeat": true,
      "show_repeat": true,
      "step": 1,
      "style": "IPY_MODEL_f79b90fb27da4c9eb6ce6b8b06c52e46",
      "value": 87
     }
    },
    "c344760dfaf34cb3afd6b03ec8b8eead": {
     "model_module": "@jupyter-widgets/base",
     "model_module_version": "1.2.0",
     "model_name": "LayoutModel",
     "state": {
      "_model_module": "@jupyter-widgets/base",
      "_model_module_version": "1.2.0",
      "_model_name": "LayoutModel",
      "_view_count": null,
      "_view_module": "@jupyter-widgets/base",
      "_view_module_version": "1.2.0",
      "_view_name": "LayoutView",
      "align_content": null,
      "align_items": null,
      "align_self": null,
      "border": null,
      "bottom": null,
      "display": null,
      "flex": null,
      "flex_flow": null,
      "grid_area": null,
      "grid_auto_columns": null,
      "grid_auto_flow": null,
      "grid_auto_rows": null,
      "grid_column": null,
      "grid_gap": null,
      "grid_row": null,
      "grid_template_areas": null,
      "grid_template_columns": null,
      "grid_template_rows": null,
      "height": null,
      "justify_content": null,
      "justify_items": null,
      "left": null,
      "margin": null,
      "max_height": null,
      "max_width": null,
      "min_height": null,
      "min_width": null,
      "object_fit": null,
      "object_position": null,
      "order": null,
      "overflow": null,
      "overflow_x": null,
      "overflow_y": null,
      "padding": null,
      "right": null,
      "top": null,
      "visibility": null,
      "width": null
     }
    },
    "ca93df9ece0849f6a858e1ef75387970": {
     "model_module": "@jupyter-widgets/controls",
     "model_module_version": "1.5.0",
     "model_name": "HBoxModel",
     "state": {
      "_dom_classes": [],
      "_model_module": "@jupyter-widgets/controls",
      "_model_module_version": "1.5.0",
      "_model_name": "HBoxModel",
      "_view_count": null,
      "_view_module": "@jupyter-widgets/controls",
      "_view_module_version": "1.5.0",
      "_view_name": "HBoxView",
      "box_style": "",
      "children": [
       "IPY_MODEL_c19adbbaed054fd9a630835c7b8c0051",
       "IPY_MODEL_6e59172c44c645e8b11cbdebf38ee024"
      ],
      "layout": "IPY_MODEL_da6f7c12f92a46b7b3aba04ba25b31e6"
     }
    },
    "d0d7174a01664ddc96f282cc68e53ad0": {
     "model_module": "@jupyter-widgets/controls",
     "model_module_version": "1.5.0",
     "model_name": "ButtonStyleModel",
     "state": {
      "_model_module": "@jupyter-widgets/controls",
      "_model_module_version": "1.5.0",
      "_model_name": "ButtonStyleModel",
      "_view_count": null,
      "_view_module": "@jupyter-widgets/base",
      "_view_module_version": "1.2.0",
      "_view_name": "StyleView",
      "button_color": null,
      "font_weight": ""
     }
    },
    "da6f7c12f92a46b7b3aba04ba25b31e6": {
     "model_module": "@jupyter-widgets/base",
     "model_module_version": "1.2.0",
     "model_name": "LayoutModel",
     "state": {
      "_model_module": "@jupyter-widgets/base",
      "_model_module_version": "1.2.0",
      "_model_name": "LayoutModel",
      "_view_count": null,
      "_view_module": "@jupyter-widgets/base",
      "_view_module_version": "1.2.0",
      "_view_name": "LayoutView",
      "align_content": null,
      "align_items": null,
      "align_self": null,
      "border": null,
      "bottom": null,
      "display": null,
      "flex": null,
      "flex_flow": null,
      "grid_area": null,
      "grid_auto_columns": null,
      "grid_auto_flow": null,
      "grid_auto_rows": null,
      "grid_column": null,
      "grid_gap": null,
      "grid_row": null,
      "grid_template_areas": null,
      "grid_template_columns": null,
      "grid_template_rows": null,
      "height": null,
      "justify_content": null,
      "justify_items": null,
      "left": null,
      "margin": null,
      "max_height": null,
      "max_width": null,
      "min_height": null,
      "min_width": null,
      "object_fit": null,
      "object_position": null,
      "order": null,
      "overflow": null,
      "overflow_x": null,
      "overflow_y": null,
      "padding": null,
      "right": null,
      "top": null,
      "visibility": null,
      "width": null
     }
    },
    "f41de2ecc4304f09b4d7af6df86ef396": {
     "model_module": "@jupyter-widgets/base",
     "model_module_version": "1.2.0",
     "model_name": "LayoutModel",
     "state": {
      "_model_module": "@jupyter-widgets/base",
      "_model_module_version": "1.2.0",
      "_model_name": "LayoutModel",
      "_view_count": null,
      "_view_module": "@jupyter-widgets/base",
      "_view_module_version": "1.2.0",
      "_view_name": "LayoutView",
      "align_content": null,
      "align_items": null,
      "align_self": null,
      "border": null,
      "bottom": null,
      "display": null,
      "flex": null,
      "flex_flow": null,
      "grid_area": null,
      "grid_auto_columns": null,
      "grid_auto_flow": null,
      "grid_auto_rows": null,
      "grid_column": null,
      "grid_gap": null,
      "grid_row": null,
      "grid_template_areas": null,
      "grid_template_columns": null,
      "grid_template_rows": null,
      "height": null,
      "justify_content": null,
      "justify_items": null,
      "left": null,
      "margin": null,
      "max_height": null,
      "max_width": null,
      "min_height": null,
      "min_width": null,
      "object_fit": null,
      "object_position": null,
      "order": null,
      "overflow": null,
      "overflow_x": null,
      "overflow_y": null,
      "padding": null,
      "right": null,
      "top": null,
      "visibility": null,
      "width": null
     }
    },
    "f79b90fb27da4c9eb6ce6b8b06c52e46": {
     "model_module": "@jupyter-widgets/controls",
     "model_module_version": "1.5.0",
     "model_name": "DescriptionStyleModel",
     "state": {
      "_model_module": "@jupyter-widgets/controls",
      "_model_module_version": "1.5.0",
      "_model_name": "DescriptionStyleModel",
      "_view_count": null,
      "_view_module": "@jupyter-widgets/base",
      "_view_module_version": "1.2.0",
      "_view_name": "StyleView",
      "description_width": ""
     }
    }
   }
  }
 },
 "nbformat": 4,
 "nbformat_minor": 4
}
